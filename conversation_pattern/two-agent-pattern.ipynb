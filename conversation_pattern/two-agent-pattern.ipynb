{
 "cells": [
  {
   "cell_type": "code",
   "execution_count": 1,
   "id": "cca820a1",
   "metadata": {},
   "outputs": [],
   "source": [
    "import sys\n",
    "import os\n",
    "from autogen import ConversableAgent\n",
    "\n",
    "# Add the parent directory to sys.path\n",
    "sys.path.append(os.path.abspath(\"..\"))\n",
    "\n",
    "from llm_config import llm_config"
   ]
  },
  {
   "cell_type": "code",
   "execution_count": 8,
   "id": "1cd8f4b4",
   "metadata": {},
   "outputs": [
    {
     "name": "stdout",
     "output_type": "stream",
     "text": [
      "\u001b[33mstudent_agent\u001b[0m (to teacher_agent):\n",
      "\n",
      "What is the traingle inequality?\n",
      "\n",
      "--------------------------------------------------------------------------------\n",
      "\u001b[33mteacher_agent\u001b[0m (to student_agent):\n",
      "\n",
      "The triangle inequality theorem states that, in any triangle, the sum of the lengths of any two sides must be greater than the length of the remaining side. Mathematically, if you have a triangle with sides of lengths \\(a\\), \\(b\\), and \\(c\\), the theorem states that:\n",
      "\n",
      "1. \\(a + b > c\\)\n",
      "2. \\(a + c > b\\)\n",
      "3. \\(b + c > a\\)\n",
      "\n",
      "This ensures that the sides actually form a triangle by restricting the side lengths to feasible configurations.\n",
      "\n",
      "--------------------------------------------------------------------------------\n",
      "\u001b[31m\n",
      ">>>>>>>> USING AUTO REPLY...\u001b[0m\n",
      "\u001b[33mstudent_agent\u001b[0m (to teacher_agent):\n",
      "\n",
      "Thanks! Could you please provide me with an example to make sure I completely understand?\n",
      "\n",
      "--------------------------------------------------------------------------------\n",
      "\u001b[33mteacher_agent\u001b[0m (to student_agent):\n",
      "\n",
      "Absolutely! Let's consider a triangle with side lengths 5, 6, and 10 as an example.\n",
      "\n",
      "We need to check the triangle inequality theorem:\n",
      "1. \\(5 + 6 > 10\\)\n",
      "2. \\(5 + 10 > 6\\)\n",
      "3. \\(6 + 10 > 5\\)\n",
      "\n",
      "Running through the checks:\n",
      "1. \\(5 + 6 = 11 > 10\\) - This condition is met.\n",
      "2. \\(5 + 10 = 15 > 6\\) - This condition is met as well.\n",
      "3. \\(6 + 10 = 16 > 5\\) - This condition is also met.\n",
      "\n",
      "Since all these conditions are satisfied, a triangle with sides 5, 6, and 10 does indeed satisfy the triangle inequality and can physically exist as a triangle.\n",
      "\n",
      "--------------------------------------------------------------------------------\n",
      "\u001b[31m\n",
      ">>>>>>>> USING AUTO REPLY...\u001b[0m\n",
      "\u001b[33mstudent_agent\u001b[0m (to teacher_agent):\n",
      "\n",
      "I understand it now. Thank you! TERMINATE\n",
      "\n",
      "--------------------------------------------------------------------------------\n",
      "\u001b[31m\n",
      ">>>>>>>> TERMINATING RUN (202fd39a-437d-4514-a2d0-2991ea8fc352): Termination message condition on agent 'teacher_agent' met\u001b[0m\n"
     ]
    }
   ],
   "source": [
    "student_agent = ConversableAgent(\n",
    "    name = \"student_agent\",\n",
    "    system_message = \"You are a student willing to learn. You also need a sample example to understand the concept.\" \\\n",
    "    \" Once you get the rsult, please response TERMINATE\",\n",
    "    llm_config = llm_config,\n",
    ")\n",
    "\n",
    "tracher_agent = ConversableAgent(\n",
    "    name = \"teacher_agent\",\n",
    "    system_message = \"You are a math teacher\",\n",
    "    llm_config = llm_config,\n",
    "    is_termination_msg=lambda msg: msg.get(\"content\") is not None and \"TERMINATE\" in msg[\"content\"],\n",
    "    human_input_mode=\"NEVER\",\n",
    ")\n",
    "\n",
    "chat_result = student_agent.initiate_chat(\n",
    "    tracher_agent,\n",
    "    message = \"What is the traingle inequality?\",\n",
    "    summary_method = \"reflection_with_llm\"\n",
    "\n",
    ")"
   ]
  },
  {
   "cell_type": "code",
   "execution_count": 9,
   "id": "bd348d18",
   "metadata": {},
   "outputs": [
    {
     "name": "stdout",
     "output_type": "stream",
     "text": [
      "The triangle inequality theorem states that in any triangle, the sum of the lengths of any two sides must be greater than the length of the remaining side. This is confirmed through the conditions \\(a + b > c\\), \\(a + c > b\\), and \\(b + c > a\\), ensuring that the side lengths can form a feasible triangle. An example is provided with side lengths 5, 6, and 10, which meet all conditions of the triangle inequality theorem.\n"
     ]
    }
   ],
   "source": [
    "print(chat_result.summary)"
   ]
  },
  {
   "cell_type": "code",
   "execution_count": 10,
   "id": "c4d67cce",
   "metadata": {},
   "outputs": [
    {
     "name": "stdout",
     "output_type": "stream",
     "text": [
      "[{'content': 'What is the traingle inequality?',\n",
      "  'name': 'student_agent',\n",
      "  'role': 'assistant'},\n",
      " {'content': 'The triangle inequality theorem states that, in any triangle, '\n",
      "             'the sum of the lengths of any two sides must be greater than the '\n",
      "             'length of the remaining side. Mathematically, if you have a '\n",
      "             'triangle with sides of lengths \\\\(a\\\\), \\\\(b\\\\), and \\\\(c\\\\), '\n",
      "             'the theorem states that:\\n'\n",
      "             '\\n'\n",
      "             '1. \\\\(a + b > c\\\\)\\n'\n",
      "             '2. \\\\(a + c > b\\\\)\\n'\n",
      "             '3. \\\\(b + c > a\\\\)\\n'\n",
      "             '\\n'\n",
      "             'This ensures that the sides actually form a triangle by '\n",
      "             'restricting the side lengths to feasible configurations.',\n",
      "  'name': 'teacher_agent',\n",
      "  'role': 'user'},\n",
      " {'content': 'Thanks! Could you please provide me with an example to make sure '\n",
      "             'I completely understand?',\n",
      "  'name': 'student_agent',\n",
      "  'role': 'assistant'},\n",
      " {'content': \"Absolutely! Let's consider a triangle with side lengths 5, 6, \"\n",
      "             'and 10 as an example.\\n'\n",
      "             '\\n'\n",
      "             'We need to check the triangle inequality theorem:\\n'\n",
      "             '1. \\\\(5 + 6 > 10\\\\)\\n'\n",
      "             '2. \\\\(5 + 10 > 6\\\\)\\n'\n",
      "             '3. \\\\(6 + 10 > 5\\\\)\\n'\n",
      "             '\\n'\n",
      "             'Running through the checks:\\n'\n",
      "             '1. \\\\(5 + 6 = 11 > 10\\\\) - This condition is met.\\n'\n",
      "             '2. \\\\(5 + 10 = 15 > 6\\\\) - This condition is met as well.\\n'\n",
      "             '3. \\\\(6 + 10 = 16 > 5\\\\) - This condition is also met.\\n'\n",
      "             '\\n'\n",
      "             'Since all these conditions are satisfied, a triangle with sides '\n",
      "             '5, 6, and 10 does indeed satisfy the triangle inequality and can '\n",
      "             'physically exist as a triangle.',\n",
      "  'name': 'teacher_agent',\n",
      "  'role': 'user'},\n",
      " {'content': 'I understand it now. Thank you! TERMINATE',\n",
      "  'name': 'student_agent',\n",
      "  'role': 'assistant'}]\n"
     ]
    }
   ],
   "source": [
    "import pprint\n",
    "pprint.pprint(chat_result.chat_history)"
   ]
  },
  {
   "cell_type": "code",
   "execution_count": 11,
   "id": "80070d1f",
   "metadata": {},
   "outputs": [
    {
     "name": "stdout",
     "output_type": "stream",
     "text": [
      "{'usage_excluding_cached_inference': {'gpt-4-turbo-2024-04-09': {'completion_tokens': 406,\n",
      "                                                                 'cost': 0.0232,\n",
      "                                                                 'prompt_tokens': 1102,\n",
      "                                                                 'total_tokens': 1508},\n",
      "                                      'total_cost': 0.0232},\n",
      " 'usage_including_cached_inference': {'gpt-4-turbo-2024-04-09': {'completion_tokens': 406,\n",
      "                                                                 'cost': 0.0232,\n",
      "                                                                 'prompt_tokens': 1102,\n",
      "                                                                 'total_tokens': 1508},\n",
      "                                      'total_cost': 0.0232}}\n"
     ]
    }
   ],
   "source": [
    "pprint.pprint(chat_result.cost)"
   ]
  },
  {
   "cell_type": "code",
   "execution_count": null,
   "id": "283b9bc1",
   "metadata": {},
   "outputs": [],
   "source": []
  }
 ],
 "metadata": {
  "kernelspec": {
   "display_name": "venv",
   "language": "python",
   "name": "python3"
  },
  "language_info": {
   "codemirror_mode": {
    "name": "ipython",
    "version": 3
   },
   "file_extension": ".py",
   "mimetype": "text/x-python",
   "name": "python",
   "nbconvert_exporter": "python",
   "pygments_lexer": "ipython3",
   "version": "3.11.4"
  }
 },
 "nbformat": 4,
 "nbformat_minor": 5
}
